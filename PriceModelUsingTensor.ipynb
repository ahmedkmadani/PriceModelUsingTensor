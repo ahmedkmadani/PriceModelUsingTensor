{
  "nbformat": 4,
  "nbformat_minor": 0,
  "metadata": {
    "colab": {
      "name": "PriceModelUsingTensor",
      "provenance": [],
      "authorship_tag": "ABX9TyOzpS+AhhpFkqJnA1HcHWK5",
      "include_colab_link": true
    },
    "kernelspec": {
      "name": "python3",
      "display_name": "Python 3"
    }
  },
  "cells": [
    {
      "cell_type": "markdown",
      "metadata": {
        "id": "view-in-github",
        "colab_type": "text"
      },
      "source": [
        "<a href=\"https://colab.research.google.com/github/ahmedkmadani/PriceModelUsingTensor/blob/master/PriceModelUsingTensor.ipynb\" target=\"_parent\"><img src=\"https://colab.research.google.com/assets/colab-badge.svg\" alt=\"Open In Colab\"/></a>"
      ]
    },
    {
      "cell_type": "markdown",
      "metadata": {
        "id": "mtqvdr-0ef89",
        "colab_type": "text"
      },
      "source": [
        "*This code to read csv file into colaboratory from google drive *"
      ]
    },
    {
      "cell_type": "code",
      "metadata": {
        "id": "eEdZWDRpcvQZ",
        "colab_type": "code",
        "colab": {}
      },
      "source": [
        "!pip install -U -q PyDrive\n",
        "\n",
        "import pandas as pd"
      ],
      "execution_count": 0,
      "outputs": []
    },
    {
      "cell_type": "code",
      "metadata": {
        "id": "gkw4Rjwze8KX",
        "colab_type": "code",
        "colab": {}
      },
      "source": [
        ""
      ],
      "execution_count": 0,
      "outputs": []
    }
  ]
}